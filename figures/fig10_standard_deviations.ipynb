{
 "cells": [
  {
   "cell_type": "code",
   "execution_count": 1,
   "metadata": {},
   "outputs": [],
   "source": [
    "import numpy as np\n",
    "import matplotlib.pyplot as plt\n",
    "from matplotlib.gridspec import GridSpec\n",
    "import matplotlib.image as mpimg\n",
    "from matplotlib import colors\n",
    "from matplotlib.cm import get_cmap\n",
    "from plot_utils import set_size\n",
    "from matplotlib.patches import Patch"
   ]
  },
  {
   "cell_type": "code",
   "execution_count": 2,
   "metadata": {},
   "outputs": [
    {
     "name": "stderr",
     "output_type": "stream",
     "text": [
      "/tmp/ipykernel_14000/1801062577.py:22: MatplotlibDeprecationWarning: The get_cmap function was deprecated in Matplotlib 3.7 and will be removed two minor releases later. Use ``matplotlib.colormaps[name]`` or ``matplotlib.colormaps.get_cmap(obj)`` instead.\n",
      "  cmap = get_cmap('CMRmap')\n"
     ]
    }
   ],
   "source": [
    "plt.rcParams['font.size'] = 8                  \n",
    "plt.rcParams['lines.linewidth'] = 1           \n",
    "plt.rcParams['lines.markersize'] = 3\n",
    "plt.rcParams['figure.figsize'] = set_size(252,subplots=(1,1))\n",
    "plt.rcParams['xtick.major.size'] = 3\n",
    "plt.rcParams['xtick.major.width'] = 0.5\n",
    "plt.rcParams['xtick.minor.size'] = 1.\n",
    "plt.rcParams['xtick.minor.width'] = 0.5\n",
    "plt.rcParams['ytick.major.size'] = 3\n",
    "plt.rcParams['ytick.major.width'] = 0.5\n",
    "plt.rcParams['ytick.minor.size'] = 1.\n",
    "plt.rcParams['ytick.minor.width'] = 0.5\n",
    "plt.rcParams['xtick.major.pad']=1.5\n",
    "plt.rcParams['ytick.major.pad']=1.5\n",
    "plt.rcParams['legend.fontsize'] = 8\n",
    "plt.rcParams['legend.handlelength'] = plt.rcParams['legend.handleheight']\n",
    "plt.rcParams['legend.columnspacing'] = 0.8\n",
    "plt.rcParams['legend.handletextpad'] = 0.4\n",
    "\n",
    "plt.rcParams['axes.linewidth'] = 0.5\n",
    "max_deg = 7\n",
    "cmap = get_cmap('CMRmap')\n",
    "\n",
    "fmt = 'eps'"
   ]
  },
  {
   "cell_type": "code",
   "execution_count": 3,
   "metadata": {},
   "outputs": [],
   "source": [
    "std_data = np.genfromtxt('../data/stds/stds.dat')\n",
    "stds = std_data[:,1:].T\n",
    "phis = std_data[:,0]\n",
    "\n",
    "sigmas = np.arange(0,20)\n",
    "\n",
    "gamma_beta = [(20,0.4),(60,0.4),(180,0.4),(60,0.2),(60,0.8)]\n",
    "gb_idcs = {(20,0.4):0,(60,0.4):1,(180,0.4):2,(60,0.2):3,(60,0.8):4}\n",
    "\n",
    "\n",
    "test_length = '5e4'\n",
    "\n",
    "gamma1 = 180\n",
    "beta1 = 0.4\n",
    "phi1 = 687\n",
    "\n",
    "gamma2 = 60\n",
    "beta2 = 0.4\n",
    "phi2 = 687\n",
    "\n",
    "gamma3 = 60\n",
    "beta3 = 0.8\n",
    "phi3 = 50\n",
    "\n",
    "stds1 = stds[gb_idcs[(gamma1,beta1)]]\n",
    "stds2 = stds[gb_idcs[(gamma2,beta2)]]\n",
    "stds3 = stds[gb_idcs[(gamma3,beta3)]]"
   ]
  },
  {
   "cell_type": "code",
   "execution_count": 4,
   "metadata": {},
   "outputs": [
    {
     "data": {
      "text/plain": [
       "Text(100, [369.02144], '$\\\\gamma=60, \\\\beta = $0.8')"
      ]
     },
     "execution_count": 4,
     "metadata": {},
     "output_type": "execute_result"
    },
    {
     "data": {
      "image/png": "[encoded data removed]",
      "text/plain": [
       "<Figure size 348.692x215.504 with 1 Axes>"
      ]
     },
     "metadata": {},
     "output_type": "display_data"
    }
   ],
   "source": [
    "if fmt == 'pdf':\n",
    "    raster = True\n",
    "    dpi = 300\n",
    "elif fmt == 'eps':\n",
    "    raster = False\n",
    "    dpi = None\n",
    "    \n",
    "fig = plt.figure()\n",
    "\n",
    "# signal standard deviations\n",
    "ax_stds = fig.add_subplot(111)\n",
    "\n",
    "# workaround for transparency in eps format\n",
    "ax_stds.scatter(phi1,stds1[phis == phi1],s=200,color=(0.80078431, 0.80078431, 0.80078431),rasterized=raster,zorder=-1)\n",
    "ax_stds.scatter(phi2,stds2[phis == phi2],s=200,color=(0.80078431, 0.80078431, 0.80078431),rasterized=raster,zorder=-1)\n",
    "ax_stds.scatter(phi3,stds3[phis == phi3],s=200,color=(0.80078431, 0.80078431, 0.80078431),rasterized=raster,zorder=-1)\n",
    "\n",
    "data_colors = np.linspace(0,0.7,3)\n",
    "linecolors = cmap(data_colors)\n",
    "ax_stds.plot(phis,stds1,marker='o',label=r'$\\gamma='+str(gamma1)+r', \\beta = $'+str(beta1),color='black',rasterized=raster,zorder=1)\n",
    "ax_stds.plot(phis,stds2,marker='o',label=r'$\\gamma='+str(gamma2)+r', \\beta = $'+str(beta2),color='green',rasterized=raster,zorder=3)\n",
    "ax_stds.plot(phis,stds3,marker='o',label=r'$\\gamma='+str(gamma3)+r', \\beta = $'+str(beta3),color='orange',rasterized=raster,zorder=2)\n",
    "\n",
    "tickstep_stds = 2\n",
    "ax_stds.set_ylabel('signal std',labelpad=2)\n",
    "ax_stds.set_xlabel('bias '+r'$\\Phi$',labelpad=1)\n",
    "ax_stds.set_xticks(phis[::tickstep_stds])\n",
    "ax_stds.set_xticks(phis,minor=True)\n",
    "ax_stds.set_ylim([0,400])\n",
    "ax_stds.set_yticks(np.arange(0,500,100))\n",
    "\n",
    "ax_stds.annotate(r'$\\mathbf{I}$',(phi1,stds1[phis == phi1]),xytext=(phi1+15,stds1[phis == phi1]+25))\n",
    "ax_stds.annotate(r'$\\mathbf{II}$',(phi2,stds2[phis == phi2]),xytext=(phi2+15,stds2[phis == phi2]+25))\n",
    "ax_stds.annotate(r'$\\mathbf{III}$',(phi3,stds3[phis == phi3]),xytext=(phi3+15,stds3[phis == phi3]+25))\n",
    "\n",
    "# removing spines\n",
    "ax_stds.spines['top'].set_visible(False)\n",
    "ax_stds.spines['top'].set_visible(False)\n",
    "ax_stds.spines['right'].set_visible(False)\n",
    "ax_stds.spines['right'].set_visible(False)\n",
    "\n",
    "handles,labels = ax_stds.get_legend_handles_labels() \n",
    "\n",
    "ax_stds.annotate(labels[0],(0,stds1[phis == 12]),xytext=(-20,stds1[phis == 12]-105),color='black',fontsize=8)\n",
    "ax_stds.annotate(labels[1],(200,stds2[phis == 200]),xytext=(200+20,stds2[phis == 200]-10),color='green',fontsize=8)\n",
    "ax_stds.annotate(labels[2],(350,stds3[phis == 350]),xytext=(350-250,stds3[phis == 350]),color='orange',fontsize=8)\n",
    "   \n",
    "plt.savefig(fmt+'/fig10_standard_deviations.'+fmt, bbox_inches='tight',dpi=dpi)"
   ]
  }
 ],
 "metadata": {
  "hide_input": false,
  "kernelspec": {
   "display_name": "Python 3 (ipykernel)",
   "language": "python",
   "name": "python3"
  },
  "language_info": {
   "codemirror_mode": {
    "name": "ipython",
    "version": 3
   },
   "file_extension": ".py",
   "mimetype": "text/x-python",
   "name": "python",
   "nbconvert_exporter": "python",
   "pygments_lexer": "ipython3",
   "version": "3.11.7"
  }
 },
 "nbformat": 4,
 "nbformat_minor": 4
}
