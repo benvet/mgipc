{
 "cells": [
  {
   "cell_type": "code",
   "execution_count": 1,
   "metadata": {},
   "outputs": [],
   "source": [
    "import numpy as np\n",
    "import matplotlib.pyplot as plt\n",
    "from matplotlib.gridspec import GridSpec\n",
    "import matplotlib.image as mpimg\n",
    "from matplotlib import colors\n",
    "from matplotlib.cm import get_cmap\n",
    "from plot_utils import set_size\n",
    "from matplotlib.patches import Patch"
   ]
  },
  {
   "cell_type": "code",
   "execution_count": 2,
   "metadata": {},
   "outputs": [
    {
     "name": "stderr",
     "output_type": "stream",
     "text": [
      "/tmp/ipykernel_127873/1630822539.py:24: MatplotlibDeprecationWarning: The get_cmap function was deprecated in Matplotlib 3.7 and will be removed two minor releases later. Use ``matplotlib.colormaps[name]`` or ``matplotlib.colormaps.get_cmap(obj)`` instead.\n",
      "  cmap = get_cmap('CMRmap')\n"
     ]
    }
   ],
   "source": [
    "plt.rcParams['font.size'] = 7                  # Schriftgroesse\n",
    "plt.rcParams['axes.titlesize'] = 8\n",
    "plt.rcParams['lines.linewidth'] = 1           # Linienbreite\n",
    "plt.rcParams['lines.markersize'] = 3\n",
    "plt.rcParams['figure.figsize'] = set_size(252,subplots=(2,2))\n",
    "plt.rcParams['figure.figsize'][1] *= 1.3\n",
    "plt.rcParams['xtick.major.size'] = 3\n",
    "plt.rcParams['xtick.major.width'] = 0.5\n",
    "plt.rcParams['xtick.minor.size'] = 1.\n",
    "plt.rcParams['xtick.minor.width'] = 0.5\n",
    "plt.rcParams['ytick.major.size'] = 3\n",
    "plt.rcParams['ytick.major.width'] = 0.5\n",
    "plt.rcParams['ytick.minor.size'] = 1.\n",
    "plt.rcParams['ytick.minor.width'] = 0.5\n",
    "plt.rcParams['xtick.major.pad']=1.5\n",
    "plt.rcParams['ytick.major.pad']=1.5\n",
    "plt.rcParams['legend.fontsize'] = 7\n",
    "plt.rcParams['legend.handlelength'] = plt.rcParams['legend.handleheight']\n",
    "plt.rcParams['legend.columnspacing'] = 0.8\n",
    "plt.rcParams['legend.handletextpad'] = 0.4\n",
    "plt.rcParams['axes.linewidth'] = 0.5\n",
    "\n",
    "max_deg = 7\n",
    "cmap = get_cmap('CMRmap')\n",
    "data_color = np.linspace(0.8,0.1,max_deg)\n",
    "degree_colors = cmap(data_color)\n",
    "\n",
    "fmt = 'eps'"
   ]
  },
  {
   "cell_type": "code",
   "execution_count": 3,
   "metadata": {},
   "outputs": [],
   "source": [
    "sigmas = np.arange(0,20)\n",
    "\n",
    "gamma1 = 180\n",
    "beta1 = 0.4\n",
    "phi1 = 687\n",
    "\n",
    "gamma2 = 60\n",
    "beta2 = 0.4\n",
    "phi2 = 687\n",
    "\n",
    "caps1 = np.zeros((sigmas.size,max_deg))\n",
    "caps2 = np.zeros((sigmas.size,max_deg))\n",
    "\n",
    "for i,sigma in enumerate(sigmas):\n",
    "        path1 = '../data/capacities/phi_sweep_gamma'+str(gamma1)+'_beta'+str(beta1).replace('.','-')+'_long/corresponding_simulation/noise/'\n",
    "        filename1 = 'results_sim_final_sigma'+str(sigma)+'_gamma'+str(gamma1)+'_beta'+str(beta1).replace('.','-')+'.dat'\n",
    "        sigma_caps = np.genfromtxt(path1+filename1)\n",
    "        phi_caps = sigma_caps[sigma_caps[:,0]==phi1]\n",
    "        caps1[i] = phi_caps[:,1:-1]\n",
    "\n",
    "        path2 = '../data/capacities/phi_sweep_gamma'+str(gamma2)+'_beta'+str(beta2).replace('.','-')+'_long/corresponding_simulation/noise/'\n",
    "        filename2 = 'results_sim_final_sigma'+str(sigma)+'_gamma'+str(gamma2)+'_beta'+str(beta2).replace('.','-')+'.dat'\n",
    "        sigma_caps = np.genfromtxt(path2+filename2)\n",
    "        phi_caps = sigma_caps[sigma_caps[:,0]==phi2]\n",
    "        caps2[i] = phi_caps[:,1:-1]"
   ]
  },
  {
   "cell_type": "code",
   "execution_count": 4,
   "metadata": {},
   "outputs": [
    {
     "name": "stderr",
     "output_type": "stream",
     "text": [
      "The PostScript backend does not support transparency; partially transparent artists will be rendered opaque.\n"
     ]
    },
    {
     "data": {
      "image/png": "[encoded data removed]",
      "text/plain": [
       "<Figure size 348.692x280.155 with 4 Axes>"
      ]
     },
     "metadata": {},
     "output_type": "display_data"
    }
   ],
   "source": [
    "raster = True\n",
    "dpi = 300\n",
    "\n",
    "\n",
    "fig = plt.figure()\n",
    "gs = GridSpec(2,2,figure=fig,wspace=0.05,bottom=0.27)\n",
    "\n",
    "ax1 = fig.add_subplot(gs[0,0])\n",
    "ax2 = fig.add_subplot(gs[0,1])\n",
    "ax3 = fig.add_subplot(gs[1,0])\n",
    "ax4 = fig.add_subplot(gs[1,1])\n",
    "\n",
    "ax1.set_ylabel('IPC',labelpad=0.5)\n",
    "ax3.set_ylabel('IPC'+r'$^d$' + '/' + 'IPC' +r'$_{\\sigma \\! = \\! 0}^d$',labelpad=0.5)\n",
    "\n",
    "ax1.set_ylim([0,105])\n",
    "ax2.set_ylim([0,105])\n",
    "ax1.set_yticks(np.arange(0,120,20))\n",
    "ax2.set_yticks(np.arange(0,120,20))\n",
    "\n",
    "ax1.set_yticks(np.arange(0,100,10),minor=True)\n",
    "ax2.set_yticks([])\n",
    "ax2.set_yticklabels([])\n",
    "\n",
    "ax3.set_ylim([-0.05,1.05])\n",
    "ax4.set_ylim([-0.05,1.05])\n",
    "\n",
    "ticksteps_caps = 3\n",
    "ax1.set_xticks(sigmas,minor=True)\n",
    "ax1.set_xticks(sigmas[::ticksteps_caps])\n",
    "ax1.set_xticklabels([])\n",
    "ax2.set_xticks(sigmas,minor=True)\n",
    "ax2.set_xticks(sigmas[::ticksteps_caps])\n",
    "ax2.set_xticklabels([])\n",
    "\n",
    "ax3.set_xticks(sigmas,minor=True)\n",
    "ax3.set_xticks(sigmas[::ticksteps_caps])\n",
    "\n",
    "ax4.set_xticks(sigmas,minor=True)\n",
    "ax4.set_xticks(sigmas[::ticksteps_caps])\n",
    "\n",
    "ax3.set_yticks([0,0.2,0.4,0.6,0.8,1])\n",
    "ax3.set_yticks(np.arange(0,1,0.1),minor=True)\n",
    "ax4.set_yticks([])\n",
    "\n",
    "ax3.set_xlabel('noise std '+r'$\\sigma$',labelpad=0.01)\n",
    "ax4.set_xlabel('noise std '+r'$\\sigma$',labelpad=0.01)\n",
    "\n",
    "# removing spines\n",
    "for ax in [ax1,ax2,ax3,ax4]:\n",
    "    ax.spines['top'].set_visible(False)\n",
    "    ax.spines['top'].set_visible(False)\n",
    "    ax.spines['right'].set_visible(False)\n",
    "    ax.spines['right'].set_visible(False)\n",
    "\n",
    "ax2.spines['left'].set_visible(False)\n",
    "ax4.spines['left'].set_visible(False)\n",
    "\n",
    "width = 1\n",
    "interim = np.zeros((3,sigmas.size))\n",
    "for d in range(max_deg):\n",
    "    ax1.bar(sigmas,caps1[:,d],bottom=interim[0],width=width,color=degree_colors[d],rasterized=raster,zorder=2)\n",
    "    interim[0] += caps1[:,d]\n",
    "\n",
    "    ax2.bar(sigmas,caps2[:,d],bottom=interim[1],width=width,color=degree_colors[d],rasterized=raster,zorder=2)\n",
    "    interim[1] += caps2[:,d]\n",
    "    \n",
    "    \n",
    "    ax3.plot(sigmas,caps1[:,d]/caps1[0,d],label=d+1,lw=0.5,marker='o',color=degree_colors[d],rasterized=False,markersize=2)\n",
    "    \n",
    "    ax4.plot(sigmas,caps2[:,d]/caps2[0,d],label=d+1,lw=0.5,marker='o',color=degree_colors[d],rasterized=False,markersize=2)\n",
    "\n",
    "ax1.set_title(r'$\\mathbf{(I)}$ '+r'$\\gamma=180$')\n",
    "ax2.set_title(r'$\\mathbf{(II)}$ '+r'$\\gamma=60$')\n",
    "\n",
    "ax1.axvline(x=5,ls='--',color='black',zorder=2,ymax=0.99)\n",
    "ax2.axvline(x=5,ls='--',color='black',zorder=2,ymax=0.99)\n",
    "\n",
    "# legend\n",
    "ph = [plt.plot([],marker=\"\", ls=\"\")[0]]\n",
    "handles = ph + [Patch(color=degree_colors[d]) for d in range(max_deg)]\n",
    "labels = ['degree:'] + [str(d+1) for d in range(max_deg)]\n",
    "leg = plt.legend(ncol=max_deg+1,loc='lower center',bbox_to_anchor=(-0.04,-0.65),handles=handles,labels=labels,labelspacing=0.6)\n",
    "\n",
    "# denote every subplot with a letter for reference\n",
    "for ax,letter in zip([ax1,ax2,ax3,ax4],'abcd'):\n",
    "    ax.text(0.85,0.8,r'$\\mathbf{{{}}}$'.format(letter),transform=ax.transAxes)\n",
    "    \n",
    "plt.savefig(fmt+'/fig09_noise_decay.'+fmt,bbox_inches='tight',dpi=dpi)"
   ]
  }
 ],
 "metadata": {
  "hide_input": false,
  "kernelspec": {
   "display_name": "Python 3 (ipykernel)",
   "language": "python",
   "name": "python3"
  },
  "language_info": {
   "codemirror_mode": {
    "name": "ipython",
    "version": 3
   },
   "file_extension": ".py",
   "mimetype": "text/x-python",
   "name": "python",
   "nbconvert_exporter": "python",
   "pygments_lexer": "ipython3",
   "version": "3.11.7"
  }
 },
 "nbformat": 4,
 "nbformat_minor": 4
}
