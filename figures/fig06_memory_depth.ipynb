{
 "cells": [
  {
   "cell_type": "code",
   "execution_count": 1,
   "id": "a60e5fca",
   "metadata": {},
   "outputs": [],
   "source": [
    "import numpy as np\n",
    "import matplotlib.pyplot as plt\n",
    "from matplotlib.gridspec import GridSpec\n",
    "import matplotlib.image as mpimg\n",
    "from matplotlib import colors\n",
    "from matplotlib.cm import ScalarMappable,get_cmap\n",
    "from matplotlib.patches import Patch\n",
    "from plot_utils import set_size\n",
    "import warnings"
   ]
  },
  {
   "cell_type": "code",
   "execution_count": 2,
   "id": "4946f2e2",
   "metadata": {},
   "outputs": [],
   "source": [
    "# PLOT PARAMS\n",
    "plt.rcParams['font.size'] = 8                  \n",
    "plt.rcParams['axes.titlesize'] = 8\n",
    "plt.rcParams['lines.linewidth'] = 1           \n",
    "plt.rcParams['lines.markersize'] = 3\n",
    "plt.rcParams['figure.figsize'] = (3.5,1.3)\n",
    "plt.rcParams['xtick.major.size'] = 3\n",
    "plt.rcParams['xtick.major.width'] = 0.5\n",
    "plt.rcParams['xtick.minor.size'] = 1.\n",
    "plt.rcParams['xtick.minor.width'] = 0.5\n",
    "plt.rcParams['ytick.major.size'] = 3\n",
    "plt.rcParams['ytick.major.width'] = 0.5\n",
    "plt.rcParams['ytick.minor.size'] = 1.\n",
    "plt.rcParams['ytick.minor.width'] = 0.5\n",
    "plt.rcParams['xtick.major.pad']=1.5\n",
    "plt.rcParams['ytick.major.pad']=1.5\n",
    "plt.rcParams['legend.fontsize'] = 7\n",
    "plt.rcParams['legend.handlelength'] = plt.rcParams['legend.handleheight']\n",
    "plt.rcParams['legend.title_fontsize'] = 7\n",
    "plt.rcParams['legend.columnspacing'] = 0.8\n",
    "plt.rcParams['legend.handletextpad'] = 0.4\n",
    "\n",
    "plt.rcParams['axes.linewidth'] = 0.5\n",
    "\n",
    "fmt = 'eps'"
   ]
  },
  {
   "cell_type": "code",
   "execution_count": 3,
   "id": "1d398b5e",
   "metadata": {},
   "outputs": [
    {
     "name": "stderr",
     "output_type": "stream",
     "text": [
      "/tmp/ipykernel_126582/4061850821.py:11: MatplotlibDeprecationWarning: The get_cmap function was deprecated in Matplotlib 3.7 and will be removed two minor releases later. Use ``matplotlib.colormaps[name]`` or ``matplotlib.colormaps.get_cmap(obj)`` instead.\n",
      "  cmap = get_cmap('gnuplot2')\n"
     ]
    }
   ],
   "source": [
    "phi = 612\n",
    "gammas = [20,60,180]\n",
    "beta = 0.4\n",
    "max_deg = 7\n",
    "test_length = '5e4'\n",
    "sim = False\n",
    "\n",
    "bins = [2,4,6,8,10,12,14,16,18,20]\n",
    "bins = np.array([-np.inf] + bins + [np.inf])\n",
    "\n",
    "cmap = get_cmap('gnuplot2')\n",
    "del_colors = cmap(np.linspace(0.8,0.1,bins.size-1))\n",
    "\n",
    "thresholds = np.genfromtxt('../threshold/thresholds_test5e4.dat')\n",
    "safety = 2"
   ]
  },
  {
   "cell_type": "code",
   "execution_count": 5,
   "id": "ae5828a1",
   "metadata": {},
   "outputs": [],
   "source": [
    "warnings.filterwarnings('ignore')\n",
    "max_del_data = np.zeros((len(gammas),max_deg,bins.size-1))\n",
    "\n",
    "for g,gamma in enumerate(gammas):\n",
    "    path_exp = '../data/capacities/phi_sweep_gamma'+str(gamma)+'_beta'+str(beta).replace('.','-')+'_long/results/'\n",
    "    path_sim = '../data/capacities/phi_sweep_gamma'+str(gamma)+'_beta'+str(beta).replace('.','-')+'_long/corresponding_simulation/noise/'\n",
    "    if sim:\n",
    "        path = path_sim\n",
    "    else:\n",
    "        path = path_exp\n",
    "    total = 0\n",
    "    for deg in range(1,max_deg+1):\n",
    "        filename_exp = 'gamma'+str(gamma)+'_beta'+str(beta).replace('.','-')+'_phi'+str(phi)+'_deg'+str(deg)+'.dat'\n",
    "        filename_sim = 'sigma0_gamma'+str(gamma)+'_beta'+str(beta).replace('.','-')+'_phi'+str(phi)+'_deg'+str(deg)+'.dat'\n",
    "        if sim:\n",
    "            filename= filename_sim\n",
    "        else:\n",
    "            filename = filename_exp\n",
    "\n",
    "        data = np.genfromtxt(path+filename)\n",
    "        if data.size > 0:\n",
    "            indices = data[:,:-1]\n",
    "            caps = data[:,-1]\n",
    "            # apply threshold\n",
    "            caps = caps[caps>thresholds[deg-1]**safety]\n",
    "            max_del = np.max(indices,axis=1)\n",
    "            total = np.sum(caps)\n",
    "            for i in range(bins.size-1):\n",
    "                max_del_data[g,deg-1,i] = np.sum(caps[np.logical_and(max_del >= bins[i],max_del<bins[i+1])])"
   ]
  },
  {
   "cell_type": "code",
   "execution_count": 6,
   "id": "c55eb78c",
   "metadata": {
    "scrolled": true
   },
   "outputs": [
    {
     "data": {
      "image/png": "[encoded data removed]",
      "text/plain": [
       "<Figure size 350x130 with 3 Axes>"
      ]
     },
     "metadata": {},
     "output_type": "display_data"
    }
   ],
   "source": [
    "raster = True\n",
    "dpi = 300\n",
    "\n",
    "\n",
    "fig = plt.figure()\n",
    "gs = GridSpec(1,3,wspace=0.05)\n",
    "ax_low = fig.add_subplot(gs[0])\n",
    "ax_med = fig.add_subplot(gs[1])\n",
    "ax_high = fig.add_subplot(gs[2])\n",
    "\n",
    "degrees = np.arange(1,max_deg+1)\n",
    "interim_low = np.zeros(degrees.shape)\n",
    "interim_med = np.zeros(degrees.shape)\n",
    "interim_high = np.zeros(degrees.shape)\n",
    "for b in range(max_del_data.shape[-1]):\n",
    "    ax_low.bar(degrees,max_del_data[0,:,b],bottom=interim_low,color=del_colors[b],rasterized=raster)\n",
    "    ax_med.bar(degrees,max_del_data[1,:,b],bottom=interim_med,color=del_colors[b],rasterized=raster)\n",
    "    ax_high.bar(degrees,max_del_data[2,:,b],bottom=interim_high,color=del_colors[b],rasterized=raster)\n",
    "    interim_low += max_del_data[0,:,b]\n",
    "    interim_med += max_del_data[1,:,b]\n",
    "    interim_high += max_del_data[2,:,b]\n",
    "\n",
    "# legend\n",
    "handles = [Patch(color=del_colors[d]) for d in range(bins.size-1)]\n",
    "labels = [str(int(bins[b]-2))+'-'+str(int(bins[b]-1)) for b in range(1,bins.size-1)] + [r'$\\geq$'+str(int(bins[-2]))]\n",
    "leg = fig.legend(ncol=6,loc='upper center',title='memory depth',bbox_to_anchor=(0.5,-0.13),handles=handles,labels=labels,handletextpad=1)\n",
    "\n",
    "# removing whitespace in front of selfmade legend title\n",
    "for vpack in leg._legend_handle_box.get_children()[:1]:\n",
    "    for hpack in vpack.get_children():\n",
    "        hpack.get_children()[0].set_width(0)\n",
    "\n",
    "ylim = 35\n",
    "for ax,gamma in zip([ax_low,ax_med,ax_high],gammas):\n",
    "    ax.set_title(r'$\\gamma=$'+str(gamma),pad=-1)\n",
    "    ax.set_xticks(range(1,max_deg+1))\n",
    "    ax.set_yticks([])\n",
    "    ax.set_yticklabels([])\n",
    "    ax.set_ylim([0,ylim])\n",
    "\n",
    "# removing spines\n",
    "for ax in [ax_med,ax_high]:\n",
    "    ax.spines['top'].set_visible(False)\n",
    "    ax.spines['right'].set_visible(False)\n",
    "    ax.spines['left'].set_visible(False)\n",
    "\n",
    "ax_low.set_ylabel('IPC')\n",
    "ax_med.set_xlabel('degree')\n",
    "ax_low.set_yticks(range(0,ylim,10))\n",
    "ax_low.set_yticks(range(0,ylim,2),minor=True)\n",
    "ax_low.set_yticklabels(range(0,ylim,10))\n",
    "ax_low.spines['top'].set_visible(False)\n",
    "ax_low.spines['right'].set_visible(False)\n",
    "\n",
    "\n",
    "plt.tight_layout()\n",
    "plt.savefig(fmt+'/fig06_memory_depth.'+fmt,bbox_inches='tight',dpi=dpi)"
   ]
  }
 ],
 "metadata": {
  "kernelspec": {
   "display_name": "Python 3 (ipykernel)",
   "language": "python",
   "name": "python3"
  },
  "language_info": {
   "codemirror_mode": {
    "name": "ipython",
    "version": 3
   },
   "file_extension": ".py",
   "mimetype": "text/x-python",
   "name": "python",
   "nbconvert_exporter": "python",
   "pygments_lexer": "ipython3",
   "version": "3.11.7"
  }
 },
 "nbformat": 4,
 "nbformat_minor": 5
}
