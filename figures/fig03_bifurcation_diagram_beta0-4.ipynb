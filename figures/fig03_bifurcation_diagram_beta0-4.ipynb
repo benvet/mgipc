{
 "cells": [
  {
   "cell_type": "code",
   "execution_count": 1,
   "metadata": {},
   "outputs": [],
   "source": [
    "import numpy as np\n",
    "import matplotlib.pyplot as plt\n",
    "from matplotlib.gridspec import GridSpec\n",
    "import matplotlib.image as mpimg\n",
    "from matplotlib import colors\n",
    "from matplotlib.cm import ScalarMappable\n",
    "from matplotlib.patches import Patch\n",
    "from plot_utils import set_size"
   ]
  },
  {
   "cell_type": "code",
   "execution_count": 2,
   "metadata": {},
   "outputs": [],
   "source": [
    "# PLOT PARAMS\n",
    "plt.rcParams['font.size'] = 8                  \n",
    "plt.rcParams['axes.titlesize'] = 8\n",
    "plt.rcParams['lines.linewidth'] = 1           \n",
    "plt.rcParams['lines.markersize'] = 3\n",
    "plt.rcParams['figure.figsize'] = [3.6,1.3] \n",
    "plt.rcParams['xtick.major.size'] = 3\n",
    "plt.rcParams['xtick.major.width'] = 0.5\n",
    "plt.rcParams['xtick.minor.size'] = 1.\n",
    "plt.rcParams['xtick.minor.width'] = 0.5\n",
    "plt.rcParams['ytick.major.size'] = 3\n",
    "plt.rcParams['ytick.major.width'] = 0.5\n",
    "plt.rcParams['ytick.minor.size'] = 1.\n",
    "plt.rcParams['ytick.minor.width'] = 0.5\n",
    "plt.rcParams['xtick.major.pad']=1.5\n",
    "plt.rcParams['ytick.major.pad']=1.5\n",
    "plt.rcParams['legend.fontsize'] = 7\n",
    "plt.rcParams['legend.handlelength'] = plt.rcParams['legend.handleheight']\n",
    "plt.rcParams['legend.columnspacing'] = 0.8\n",
    "plt.rcParams['legend.handletextpad'] = 0.4\n",
    "\n",
    "plt.rcParams['axes.linewidth'] = 0.5\n",
    "\n",
    "fmt = 'eps'"
   ]
  },
  {
   "cell_type": "code",
   "execution_count": 3,
   "metadata": {},
   "outputs": [],
   "source": [
    "# bifurcation data\n",
    "phis_bif = np.genfromtxt('../bifurcation_diagram/phis_bif.dat')[:-2]\n",
    "\n",
    "# beta04\n",
    "bif_data_exp04 = np.genfromtxt('../data/bifurcation_diagram/bifurcation_data_beta0-4_exp_revised.dat').reshape(20,200,100)\n",
    "bif_data_sim04 = np.genfromtxt('../data/bifurcation_diagram/bifurcation_data_beta0-4_sim_revised.dat').reshape(20,200,100)"
   ]
  },
  {
   "cell_type": "code",
   "execution_count": 4,
   "metadata": {
    "scrolled": true
   },
   "outputs": [
    {
     "name": "stderr",
     "output_type": "stream",
     "text": [
      "/tmp/ipykernel_34540/2943506888.py:64: UserWarning: This figure includes Axes that are not compatible with tight_layout, so results might be incorrect.\n",
      "  plt.tight_layout()\n"
     ]
    },
    {
     "data": {
      "image/png": "[encoded data removed]",
      "text/plain": [
       "<Figure size 360x130 with 3 Axes>"
      ]
     },
     "metadata": {},
     "output_type": "display_data"
    }
   ],
   "source": [
    "if fmt == 'pdf':\n",
    "    raster = True\n",
    "    dpi = 300\n",
    "elif fmt == 'eps':\n",
    "    raster = False\n",
    "    dpi = None\n",
    "\n",
    "fig = plt.figure(constrained_layout=False)\n",
    "\n",
    "gs = GridSpec(1,2,figure=fig,wspace=0.1)\n",
    "\n",
    "ax_exp04 = fig.add_subplot(gs[0])\n",
    "ax_sim04 = fig.add_subplot(gs[1])\n",
    "\n",
    "axes_exp = [ax_exp04]\n",
    "axes_sim = [ax_sim04]\n",
    "axes = axes_exp + axes_sim\n",
    "ax_label = fig.add_subplot(gs[:,:])\n",
    "for ax in [ax_label]:\n",
    "    plt.setp(ax.spines.values(), visible=False)\n",
    "    # remove ticks and labels for the left axis\n",
    "    ax.tick_params(left=False)\n",
    "    #remove background patch\n",
    "    ax.patch.set_visible(False)\n",
    "    ax.set_xticks([])\n",
    "    ax.set_yticks([])\n",
    "ax_label.set_ylabel('output level',labelpad=25)\n",
    "ax_label.set_title(r'$\\beta = 0.4$')\n",
    "\n",
    "biftickstep = 4\n",
    "\n",
    "s = 15\n",
    "marker='+'\n",
    "alpha=1\n",
    "lw=0.5\n",
    "last_steps = 50\n",
    "\n",
    "# Bifurcation diagrams\n",
    "for i,phi in enumerate(phis_bif):  \n",
    "    ax_exp04.scatter([phi]*last_steps,bif_data_exp04[i,-last_steps:,0],rasterized=raster,\n",
    "                     marker=marker,color='black',s=s,alpha=alpha,linewidths=lw)\n",
    "    ax_sim04.scatter([phi]*last_steps,bif_data_sim04[i,-last_steps:,0],rasterized=raster,\n",
    "                     marker=marker,color='black',s=s,alpha=alpha,linewidths=lw)\n",
    "\n",
    "for ax,letter in zip(axes,'abcdef'):\n",
    "    ax.set_xticks(phis_bif[::biftickstep])\n",
    "    ax.set_xticks(phis_bif,minor=True)\n",
    "    ax.set_yticks(np.arange(0,1000,100),minor=True)\n",
    "    ax.set_yticks(np.arange(0,1000,200))\n",
    "    ax.text(0.85,0.8,r'$\\mathbf{{{}}}$'.format(letter),transform=ax.transAxes)\n",
    "    ax.set_ylim([-100,1000])\n",
    "for ax in axes:\n",
    "    ax.set_xticklabels(phis_bif[::biftickstep].astype(int))\n",
    "    ax.set_xlabel(r'bias $\\Phi$')\n",
    "\n",
    "for ax in axes:\n",
    "    ax.set_yticklabels([])\n",
    "ax_exp04.set_yticklabels(np.arange(0,1000,200))\n",
    "ax_sim04.set_yticklabels([])\n",
    "\n",
    "plt.tight_layout()\n",
    "plt.savefig(fmt+'/fig03_bifurcation_diagram_beta0-4.'+fmt,bbox_inches='tight',dpi=dpi)"
   ]
  }
 ],
 "metadata": {
  "hide_input": false,
  "kernelspec": {
   "display_name": "Python 3 (ipykernel)",
   "language": "python",
   "name": "python3"
  },
  "language_info": {
   "codemirror_mode": {
    "name": "ipython",
    "version": 3
   },
   "file_extension": ".py",
   "mimetype": "text/x-python",
   "name": "python",
   "nbconvert_exporter": "python",
   "pygments_lexer": "ipython3",
   "version": "3.11.7"
  }
 },
 "nbformat": 4,
 "nbformat_minor": 4
}
