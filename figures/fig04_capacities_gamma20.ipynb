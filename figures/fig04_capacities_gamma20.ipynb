{
 "cells": [
  {
   "cell_type": "code",
   "execution_count": 1,
   "metadata": {},
   "outputs": [],
   "source": [
    "import numpy as np\n",
    "import matplotlib.pyplot as plt\n",
    "from matplotlib.gridspec import GridSpec\n",
    "import matplotlib.image as mpimg\n",
    "from matplotlib import colors\n",
    "from matplotlib.cm import ScalarMappable,get_cmap\n",
    "from matplotlib.patches import Patch\n",
    "from plot_utils import set_size"
   ]
  },
  {
   "cell_type": "code",
   "execution_count": 2,
   "metadata": {},
   "outputs": [],
   "source": [
    "# DATA PARAMS\n",
    "phis = np.array([12, 50, 87, 125, 162, 200, 237, 275, 312, 350, 387, 425, 462, 500, 537, 575, 612, 650, 687, 725])\n",
    "max_deg = 7"
   ]
  },
  {
   "cell_type": "code",
   "execution_count": 8,
   "metadata": {},
   "outputs": [
    {
     "name": "stderr",
     "output_type": "stream",
     "text": [
      "/tmp/ipykernel_43860/3226358234.py:24: MatplotlibDeprecationWarning: The get_cmap function was deprecated in Matplotlib 3.7 and will be removed two minor releases later. Use ``matplotlib.colormaps[name]`` or ``matplotlib.colormaps.get_cmap(obj)`` instead.\n",
      "  cmap = get_cmap('CMRmap')\n"
     ]
    }
   ],
   "source": [
    "# PLOT PARAMS\n",
    "plt.rcParams['font.size'] = 8                  \n",
    "plt.rcParams['axes.titlesize'] = 8\n",
    "plt.rcParams['lines.linewidth'] = 1           \n",
    "plt.rcParams['lines.markersize'] = 3\n",
    "plt.rcParams['figure.figsize'] = set_size(252,subplots=(2,1))\n",
    "plt.rcParams['xtick.major.size'] = 3\n",
    "plt.rcParams['xtick.major.width'] = 0.5\n",
    "plt.rcParams['xtick.minor.size'] = 1.\n",
    "plt.rcParams['xtick.minor.width'] = 0.5\n",
    "plt.rcParams['ytick.major.size'] = 3\n",
    "plt.rcParams['ytick.major.width'] = 0.5\n",
    "plt.rcParams['ytick.minor.size'] = 1.\n",
    "plt.rcParams['ytick.minor.width'] = 0.5\n",
    "plt.rcParams['xtick.major.pad']=1.5\n",
    "plt.rcParams['ytick.major.pad']=1.5\n",
    "plt.rcParams['legend.fontsize'] = 8\n",
    "plt.rcParams['legend.handlelength'] = plt.rcParams['legend.handleheight']\n",
    "plt.rcParams['legend.columnspacing'] = 0.8\n",
    "plt.rcParams['legend.handletextpad'] = 0.4\n",
    "\n",
    "plt.rcParams['axes.linewidth'] = 0.5\n",
    "\n",
    "cmap = get_cmap('CMRmap')\n",
    "\n",
    "fmt = 'eps'"
   ]
  },
  {
   "cell_type": "code",
   "execution_count": 5,
   "metadata": {},
   "outputs": [],
   "source": [
    "sigma = 5 # standard deviation used for noisy corresponding simulation\n",
    "\n",
    "# experiment\n",
    "path_exp = '../data/capacities/phi_sweep_gamma20_beta0-4_long/results/results_exp_final_gamma20_beta0-4.dat'\n",
    "results_exp = np.genfromtxt(path_exp)[:,1:max_deg+1]\n",
    "\n",
    "# simulation\n",
    "path_sim = '../data/capacities/phi_sweep_gamma20_beta0-4_long/corresponding_simulation/noise/results_sim_final_sigma'+str(sigma)+'_gamma20_beta0-4.dat'\n",
    "path_noiseless = '../data/capacities/phi_sweep_gamma20_beta0-4_long/corresponding_simulation/noise/results_sim_final_sigma0_gamma20_beta0-4.dat'\n",
    "results_sim = np.genfromtxt(path_sim)[:,1:max_deg+1]\n",
    "results_noiseless = np.genfromtxt(path_noiseless)[:,1:max_deg+1]"
   ]
  },
  {
   "cell_type": "code",
   "execution_count": 6,
   "metadata": {
    "scrolled": true
   },
   "outputs": [
    {
     "name": "stderr",
     "output_type": "stream",
     "text": [
      "The PostScript backend does not support transparency; partially transparent artists will be rendered opaque.\n"
     ]
    },
    {
     "data": {
      "image/png": "[encoded data removed]",
      "text/plain": [
       "<Figure size 348.692x431.008 with 4 Axes>"
      ]
     },
     "metadata": {},
     "output_type": "display_data"
    }
   ],
   "source": [
    "raster = True\n",
    "dpi = 300\n",
    "\n",
    "\n",
    "fig = plt.figure(constrained_layout=False)\n",
    "\n",
    "gs = GridSpec(3,1,figure=fig,hspace=0.5)\n",
    "\n",
    "# common y-label for capacity plots\n",
    "ax_cap_label = fig.add_subplot(gs[:])\n",
    "ax_cap_label.set_ylabel('information processing capacity',labelpad=22)\n",
    "ax_cap_label.xaxis.set_visible(False)\n",
    "# make spines (the box) invisible\n",
    "plt.setp(ax_cap_label.spines.values(), visible=False)\n",
    "# remove ticks and labels for the left axis\n",
    "ax_cap_label.tick_params(left=False, labelleft=False)\n",
    "#remove background patch (only needed for non-white background)\n",
    "ax_cap_label.patch.set_visible(False)\n",
    "\n",
    "ax_gamma20_exp = fig.add_subplot(gs[0,0])\n",
    "ax_gamma20_nonoise = fig.add_subplot(gs[1,0])\n",
    "ax_gamma20_sim = fig.add_subplot(gs[2,0])\n",
    "\n",
    "\n",
    "\n",
    "# Capacities\n",
    "## limits\n",
    "ax_gamma20_exp.set_ylim([0,105])\n",
    "\n",
    "\n",
    "ax_gamma20_sim.set_ylim([0,105])\n",
    "\n",
    "\n",
    "ax_gamma20_nonoise.set_ylim([0,105])\n",
    "\n",
    "\n",
    "## ticks\n",
    "tickstep = 4\n",
    "axes = [ax_gamma20_exp,ax_gamma20_sim,ax_gamma20_nonoise]\n",
    "for ax in axes:\n",
    "    ax.set_xticks(phis[::tickstep])\n",
    "    ax.set_xticks(phis,minor=True)\n",
    "    ax.set_xticklabels([])\n",
    "\n",
    "ax_gamma20_exp.set_yticks(np.arange(0,120,20))\n",
    "ax_gamma20_sim.set_yticks(np.arange(0,120,20))\n",
    "ax_gamma20_nonoise.set_yticks(np.arange(0,120,20))\n",
    "\n",
    "ax_gamma20_sim.set_xticklabels(phis[::tickstep])\n",
    "ax_gamma20_exp.set_yticklabels(np.arange(0,120,20))\n",
    "ax_gamma20_sim.set_yticklabels(np.arange(0,120,20))\n",
    "ax_gamma20_nonoise.set_yticklabels(np.arange(0,120,20))\n",
    "  \n",
    "\n",
    "## headings & labels\n",
    "ax_gamma20_exp.set_title(r'$\\gamma = 20$',)\n",
    "\n",
    "axes_exp = [ax_gamma20_exp]\n",
    "axes_sim = [ax_gamma20_sim]\n",
    "axes_nonoise = [ax_gamma20_nonoise]\n",
    "\n",
    "# removing spines\n",
    "for ax_sim,ax_exp,ax_nonoise in zip(axes_sim,axes_exp,axes_nonoise):\n",
    "    ax_exp.spines['top'].set_visible(False)\n",
    "    ax_sim.spines['top'].set_visible(False)\n",
    "    ax_nonoise.spines['top'].set_visible(False)\n",
    "    ax_exp.spines['right'].set_visible(False)\n",
    "    ax_sim.spines['right'].set_visible(False)\n",
    "    ax_nonoise.spines['right'].set_visible(False)\n",
    "    \n",
    "for ax in axes_sim:\n",
    "    ax.set_xticks(phis,minor=True)\n",
    "\n",
    "ax_gamma20_exp.set_yticks(np.arange(0,100,10),minor=True)\n",
    "ax_gamma20_sim.set_yticks(np.arange(0,100,10),minor=True)\n",
    "ax_gamma20_nonoise.set_yticks(np.arange(0,100,10),minor=True)\n",
    "\n",
    "pad = 5\n",
    "ax_gamma20_exp.set_title(r'$\\mathbf{(a)}$'+' experiment',pad=pad)\n",
    "ax_gamma20_nonoise.set_title(r'$\\mathbf{(b)}$'+' noiseless simulation',pad=pad)\n",
    "ax_gamma20_sim.set_title(r'$\\mathbf{(c)}$'+' simulation with noise',pad=pad)\n",
    "\n",
    "\n",
    "width = 38\n",
    "#width = (phis.max()-phis.min())/phis.size\n",
    "data_color = np.linspace(0.8,0.1,max_deg)\n",
    "degree_colors = cmap(data_color)\n",
    "\n",
    "for ax in axes_sim:\n",
    "    ax.set_xlabel(r'bias $\\Phi$',labelpad=0.5)\n",
    "\n",
    "\n",
    "interim_exp = np.zeros(phis.shape)\n",
    "interim_sim = np.zeros(phis.shape)\n",
    "interim_nonoise = np.zeros(phis.shape)\n",
    "for d in range(max_deg):\n",
    "    # experiment\n",
    "    ax_gamma20_exp.bar(phis,results_exp[:,d],bottom=interim_exp,width=width,color=degree_colors[d],rasterized=raster)\n",
    "    interim_exp += results_exp[:,d]\n",
    "\n",
    "    #simulation\n",
    "    ax_gamma20_sim.bar(phis,results_sim[:,d],bottom=interim_sim,width=width,color=degree_colors[d],rasterized=raster)\n",
    "    interim_sim += results_sim[:,d]\n",
    "\n",
    "    # noiseless simulation\n",
    "    ax_gamma20_nonoise.bar(phis,results_noiseless[:,d],bottom=interim_nonoise,width=width,color=degree_colors[d],rasterized=raster)\n",
    "    interim_nonoise += results_noiseless[:,d]\n",
    "\n",
    "# legend\n",
    "handles = [Patch(color=degree_colors[d]) for d in range(max_deg)]\n",
    "labels = [str(d+1) for d in range(max_deg)]\n",
    "leg = fig.legend(ncol=1,loc='center left',title='degree',bbox_to_anchor=(0.9,0.5),handles=handles,labels=labels,handletextpad=1)\n",
    "\n",
    "# removing whitespace in front of selfmade legend title\n",
    "for vpack in leg._legend_handle_box.get_children()[:1]:\n",
    "    for hpack in vpack.get_children():\n",
    "        hpack.get_children()[0].set_width(0)\n",
    "\n",
    "plt.savefig(fmt+'/fig04_capacities_gamma20.'+fmt,bbox_inches='tight',dpi=dpi)\n",
    "plt.show()"
   ]
  }
 ],
 "metadata": {
  "hide_input": false,
  "kernelspec": {
   "display_name": "Python 3 (ipykernel)",
   "language": "python",
   "name": "python3"
  },
  "language_info": {
   "codemirror_mode": {
    "name": "ipython",
    "version": 3
   },
   "file_extension": ".py",
   "mimetype": "text/x-python",
   "name": "python",
   "nbconvert_exporter": "python",
   "pygments_lexer": "ipython3",
   "version": "3.11.7"
  }
 },
 "nbformat": 4,
 "nbformat_minor": 4
}
