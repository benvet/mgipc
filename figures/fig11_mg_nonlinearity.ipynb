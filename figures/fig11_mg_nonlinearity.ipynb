{
 "cells": [
  {
   "cell_type": "code",
   "execution_count": 1,
   "metadata": {},
   "outputs": [],
   "source": [
    "import numpy as np\n",
    "import matplotlib.pyplot as plt\n",
    "from matplotlib.gridspec import GridSpec\n",
    "import matplotlib.image as mpimg\n",
    "from matplotlib import colors\n",
    "from matplotlib.cm import ScalarMappable\n",
    "from plot_utils import set_size"
   ]
  },
  {
   "cell_type": "code",
   "execution_count": 2,
   "metadata": {},
   "outputs": [],
   "source": [
    "plt.rcParams['font.size'] = 7                  \n",
    "plt.rcParams['axes.titlesize'] = 6\n",
    "plt.rcParams['lines.linewidth'] = 1           \n",
    "plt.rcParams['lines.markersize'] = 3\n",
    "plt.rcParams['figure.figsize'] = set_size(252,subplots=(1,1))\n",
    "plt.rcParams['figure.figsize'] = (plt.rcParams['figure.figsize'][0],plt.rcParams['figure.figsize'][1]/2)\n",
    "plt.rcParams['xtick.major.size'] = 3\n",
    "plt.rcParams['xtick.major.width'] = 0.5\n",
    "plt.rcParams['xtick.minor.size'] = 1.\n",
    "plt.rcParams['xtick.minor.width'] = 0.5\n",
    "plt.rcParams['ytick.major.size'] = 3\n",
    "plt.rcParams['ytick.major.width'] = 0.5\n",
    "plt.rcParams['ytick.minor.size'] = 1.\n",
    "plt.rcParams['ytick.minor.width'] = 0.5\n",
    "plt.rcParams['xtick.major.pad']=1.5\n",
    "plt.rcParams['ytick.major.pad']=1.5\n",
    "plt.rcParams['legend.fontsize'] = 7\n",
    "plt.rcParams['legend.handlelength'] = plt.rcParams['legend.handleheight']\n",
    "plt.rcParams['legend.columnspacing'] = 0.8\n",
    "plt.rcParams['legend.handletextpad'] = 0.4\n",
    "\n",
    "plt.rcParams['axes.linewidth'] = 0.5\n",
    "\n",
    "fmt = 'eps'"
   ]
  },
  {
   "cell_type": "code",
   "execution_count": 3,
   "metadata": {},
   "outputs": [],
   "source": [
    "nonlinearity_exp = np.genfromtxt('../data/nonlinearity/measoutfileNLjune.txt')\n",
    "nonlinearity_input = np.genfromtxt('../data/nonlinearity/inputnonlinearity.txt')\n",
    "nonlinearity_mask = np.genfromtxt('../data/nonlinearity/masknonlinearity.txt')\n",
    "\n",
    "data = np.zeros((51200,1))\n",
    "index=1\n",
    "for i in range(1023):\n",
    "    for j in range(50):\n",
    "        data[index]=nonlinearity_input[i]*nonlinearity_mask[j]\n",
    "        index=index+1\n",
    "\n",
    "model=2.189*nonlinearity_input/(1+np.power(0.001839*nonlinearity_input,10.37))"
   ]
  },
  {
   "cell_type": "code",
   "execution_count": 4,
   "metadata": {},
   "outputs": [
    {
     "name": "stderr",
     "output_type": "stream",
     "text": [
      "The PostScript backend does not support transparency; partially transparent artists will be rendered opaque.\n"
     ]
    },
    {
     "data": {
      "image/png": "[encoded data removed]",
      "text/plain": [
       "<Figure size 348.692x107.752 with 1 Axes>"
      ]
     },
     "metadata": {},
     "output_type": "display_data"
    }
   ],
   "source": [
    "if fmt == 'pdf':\n",
    "    raster = True\n",
    "    dpi = 300\n",
    "elif fmt == 'eps':\n",
    "    raster = False\n",
    "    dpi = None\n",
    "\n",
    "\n",
    "fig = plt.figure()\n",
    "ax = fig.gca()\n",
    "\n",
    "ax.scatter(data,nonlinearity_exp,label='measurement',rasterized=raster,s=3)\n",
    "ax.plot(model,color='black',label='fit',rasterized=raster)\n",
    "ax.set_xlabel('input level',labelpad=1)\n",
    "ax.set_ylabel('output level',labelpad=1)\n",
    "\n",
    "ax.legend()\n",
    "\n",
    "plt.savefig(fmt+'/fig11_mg_nonlinearity.'+fmt,dpi=dpi,bbox_inches='tight')"
   ]
  }
 ],
 "metadata": {
  "hide_input": false,
  "kernelspec": {
   "display_name": "Python 3 (ipykernel)",
   "language": "python",
   "name": "python3"
  },
  "language_info": {
   "codemirror_mode": {
    "name": "ipython",
    "version": 3
   },
   "file_extension": ".py",
   "mimetype": "text/x-python",
   "name": "python",
   "nbconvert_exporter": "python",
   "pygments_lexer": "ipython3",
   "version": "3.11.7"
  }
 },
 "nbformat": 4,
 "nbformat_minor": 4
}
